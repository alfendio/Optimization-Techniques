{
 "cells": [
  {
   "cell_type": "markdown",
   "metadata": {},
   "source": [
    "# Teknik Optimalisasi"
   ]
  },
  {
   "cell_type": "markdown",
   "metadata": {},
   "source": [
    "# DIFFERENTIAL EVOLUTION"
   ]
  },
  {
   "cell_type": "markdown",
   "metadata": {},
   "source": [
    "## Import library"
   ]
  },
  {
   "cell_type": "code",
   "execution_count": 118,
   "metadata": {},
   "outputs": [],
   "source": [
    "import random\n",
    "import matplotlib.pyplot as plt"
   ]
  },
  {
   "cell_type": "markdown",
   "metadata": {},
   "source": [
    "## Parameter kontrol"
   ]
  },
  {
   "cell_type": "markdown",
   "metadata": {},
   "source": [
    "- Different evolution memiliki 3 buah parameter control yaitu ukuran populasi, faktor skala F dan probabilitas crossover CR\n",
    "- Faktor skala F berfungsi untuk mengatur penguatan difference vektor dan menghindari stagnasi selama proses pencarian \n",
    "- Probabilitas crossover CR [0,1] berfungsi untuk mengendalikan laju crossover "
   ]
  },
  {
   "cell_type": "code",
   "execution_count": 119,
   "metadata": {},
   "outputs": [],
   "source": [
    "# y = 15x - x^2\n",
    "N = 3\n",
    "CR = 0.7 # tidak ada ukuran baku, lebih besar lebih baik, tergantung data\n",
    "F = 0.5 # nilai tidak ada ukuran baku, antara 0 - 1"
   ]
  },
  {
   "cell_type": "markdown",
   "metadata": {},
   "source": [
    "## Notasi"
   ]
  },
  {
   "cell_type": "markdown",
   "metadata": {},
   "source": [
    "Untuk memudahkan, ada notasi yang menyatakan type dari DE yang dinyatakan dengan DE/a/b/c dimana:\n",
    "- Menyatakan vektor basis yang akan dimutasi\n",
    "- Menyatakan jumlah selisih vektor yang akan ditambahkan pada vektor basis\n",
    "- Menyatakan skema crossover "
   ]
  },
  {
   "cell_type": "code",
   "execution_count": 120,
   "metadata": {},
   "outputs": [
    {
     "name": "stdout",
     "output_type": "stream",
     "text": [
      "[0, 0, 0]\n"
     ]
    }
   ],
   "source": [
    "# DE/rand/1/uniform\n",
    "#    -> vektor basis acak, 1 vektor difference, CR -> uniform\n",
    "induk = [0 for i in range(N)]\n",
    "print(induk)"
   ]
  },
  {
   "cell_type": "markdown",
   "metadata": {},
   "source": [
    "## 1. Membangkitkan populasi awal"
   ]
  },
  {
   "cell_type": "markdown",
   "metadata": {},
   "source": [
    "Dengan mengambil contoh notasi DE/rand/1/uniform pada permasalahan kontinu dengan D-dimensi, procedur DE dapat dijelaskan sebagai berikut: \n",
    "- Batas atas 𝐵𝑈 dan batas bawah 𝐵𝐿 dari tiap variabel harus ditentukan \n",
    "- Setiap variable j dari individu i diinisialisasi\n",
    "- Dimana 𝑟𝑎𝑛𝑑 (0,1) yang menyatakan nilai random dengan distribusi uniform dalam rentang [0,1) "
   ]
  },
  {
   "cell_type": "code",
   "execution_count": 121,
   "metadata": {},
   "outputs": [
    {
     "name": "stdout",
     "output_type": "stream",
     "text": [
      "[4.778531263873665, 6.9595325485877195, 5.967943505086215]\n"
     ]
    }
   ],
   "source": [
    "BU = 15 # boundary up\n",
    "BL = 0 # boundary low\n",
    "\n",
    "for i in range(N):\n",
    "    induk[i] = random.random() * ((BU - BL) + BL)\n",
    "\n",
    "print(induk)"
   ]
  },
  {
   "cell_type": "markdown",
   "metadata": {},
   "source": [
    "## Buat Function"
   ]
  },
  {
   "cell_type": "markdown",
   "metadata": {},
   "source": [
    "### Hitung fitness"
   ]
  },
  {
   "cell_type": "code",
   "execution_count": 122,
   "metadata": {},
   "outputs": [],
   "source": [
    "def hitungFitness(x):\n",
    "    y = 15 * x - x*2\n",
    "    return y"
   ]
  },
  {
   "cell_type": "markdown",
   "metadata": {},
   "source": [
    "## 2. Definisi variable epochs dan counter (ctr)"
   ]
  },
  {
   "cell_type": "markdown",
   "metadata": {},
   "source": [
    "### Menentukan nilai epochs"
   ]
  },
  {
   "cell_type": "markdown",
   "metadata": {},
   "source": [
    "Tidak ada ketentuan untuk menentukan nilai epochs, based on experience"
   ]
  },
  {
   "cell_type": "code",
   "execution_count": 123,
   "metadata": {},
   "outputs": [
    {
     "name": "stdout",
     "output_type": "stream",
     "text": [
      "[0, 0, 0, 0, 0, 0, 0, 0, 0, 0, 0, 0, 0, 0, 0, 0, 0, 0, 0, 0, 0, 0, 0, 0, 0, 0, 0, 0, 0, 0, 0, 0, 0, 0, 0, 0, 0, 0, 0, 0, 0, 0, 0, 0, 0, 0, 0, 0, 0, 0]\n"
     ]
    }
   ],
   "source": [
    "ctr = 1 # counter\n",
    "epochs = 50\n",
    "MaxFitness = [0 for i in range(epochs)]\n",
    "print(MaxFitness)"
   ]
  },
  {
   "cell_type": "markdown",
   "metadata": {},
   "source": [
    "### Hitung dulu nilai fitness untuk induk"
   ]
  },
  {
   "cell_type": "code",
   "execution_count": 124,
   "metadata": {},
   "outputs": [
    {
     "name": "stdout",
     "output_type": "stream",
     "text": [
      "[90.47392313164036, 0, 0, 0, 0, 0, 0, 0, 0, 0, 0, 0, 0, 0, 0, 0, 0, 0, 0, 0, 0, 0, 0, 0, 0, 0, 0, 0, 0, 0, 0, 0, 0, 0, 0, 0, 0, 0, 0, 0, 0, 0, 0, 0, 0, 0, 0, 0, 0, 0]\n"
     ]
    }
   ],
   "source": [
    "for j in range(N):\n",
    "    if (hitungFitness(induk[j]) > MaxFitness[0]):\n",
    "        MaxFitness[0] = hitungFitness(induk[j])\n",
    "print(MaxFitness)"
   ]
  },
  {
   "cell_type": "markdown",
   "metadata": {},
   "source": [
    "## 3. While sebelum kriteria berhenti"
   ]
  },
  {
   "cell_type": "markdown",
   "metadata": {},
   "source": [
    "### Seleksi -> Reproduksi -> Elitism"
   ]
  },
  {
   "cell_type": "code",
   "execution_count": 125,
   "metadata": {},
   "outputs": [
    {
     "name": "stdout",
     "output_type": "stream",
     "text": [
      "[8.357209137023048, 10.439298822881579, 13.423270575424686]\n",
      "108.64371878129963\n",
      "135.71088469746053\n",
      "174.50251748052094\n",
      "[12.535813705534572, 15.658948234322368, 20.13490586313703]\n",
      "162.96557817194946\n",
      "203.5663270461908\n",
      "261.7537762207814\n",
      "[18.80372055830186, 23.488422351483553, 28.871173489870372]\n",
      "244.44836725792416\n",
      "305.34949056928616\n",
      "375.32525536831486\n",
      "[32.89028263063448, 40.61538466561215, 55.050971410547334]\n",
      "427.5736741982482\n",
      "528.0000006529579\n",
      "715.6626283371153\n",
      "[49.33542394595172, 75.3586637433534, 82.576457115821]\n",
      "641.3605112973723\n",
      "979.6626286635942\n",
      "1073.493942505673\n",
      "[100.02637571632926, 137.70570758800596, 178.99393614591645]\n",
      "1300.3428843122801\n",
      "1790.1741986440775\n",
      "2326.921169896914\n",
      "[229.00712400408108, 247.84678993991943, 268.4909042188747]\n",
      "2977.092612053054\n",
      "3222.0082692189526\n",
      "3490.381754845371\n",
      "[382.9944662209152, 506.91786119087493, 402.736356328312]\n",
      "4978.928060871898\n",
      "6589.932195481374\n",
      "[698.4150943013326, 656.1952869237494, 899.7832724654886]\n",
      "9079.396225917324\n",
      "11697.182542051352\n",
      "[1005.4028340744158, 984.2929303856242, 1349.674908698233]\n",
      "13070.236842967406\n",
      "17545.773813077027\n",
      "[1852.3763257354408, 1841.821373891045, 2516.6588282401613]\n",
      "24080.89223456073\n",
      "32716.564767122094\n",
      "[3442.846991107882, 2762.732060836567, 4021.0614749566475]\n",
      "44757.010884402465\n",
      "52273.79917443642\n",
      "[4484.155556390508, 4144.098091254851, 6154.628828733175]\n",
      "58294.0222330766\n",
      "80010.17477353128\n",
      "[6386.175869450105, 6216.147136882277, 9231.943243099762]\n",
      "83020.28630285137\n",
      "120015.26216029692\n",
      "[12425.031177824814, 9324.220705323416, 13847.914864649643]\n",
      "161525.40531172257\n",
      "180022.89324044535\n",
      "[20060.43045356205, 24722.54080622376, 20771.872296974463]\n",
      "260785.59589630665\n",
      "321393.03048090887\n",
      "[34752.756033004785, 47114.02643611666, 45138.69218149202]\n",
      "451785.8284290622\n",
      "612482.3436695166\n",
      "[52129.13404950718, 70671.039654175, 93240.385744921]\n",
      "677678.7426435933\n",
      "918723.5155042749\n",
      "1212125.014683973\n",
      "[78193.70107426077, 106006.55948126249, 139860.5786173815]\n",
      "1016518.11396539\n",
      "1378085.2732564125\n",
      "1818187.5220259598\n",
      "[145103.41001839287, 159009.83922189375, 209790.86792607227]\n",
      "1886344.3302391074\n",
      "2067127.9098846186\n",
      "2727281.2830389393\n",
      "[217655.11502758932, 238514.75883284063, 322550.5489906254]\n",
      "2829516.4953586613\n",
      "3100691.864826928\n",
      "4193157.13687813\n",
      "[347342.3163466353, 466599.6957630556, 627874.9702583683]\n",
      "4515450.112506259\n",
      "6065796.044919723\n",
      "8162374.613358788\n",
      "[640270.8539363733, 873570.7018179011, 954208.3390655573]\n",
      "8323521.101172851\n",
      "11356419.123632714\n",
      "12404708.407852245\n",
      "[1274343.766033744, 1390993.6899745078, 1751447.9355665226]\n",
      "16566468.958438672\n",
      "18082917.9696686\n",
      "22768823.162364796\n",
      "[1911515.649050616, 2446944.780553777, 3322668.748337038]\n",
      "24849703.43765801\n",
      "31810282.1471991\n",
      "43194693.72838149\n",
      "[3402702.6050790846, 4546141.138613926, 6207475.512782445]\n",
      "44235133.8660281\n",
      "59099834.80198105\n",
      "80697181.66617179\n",
      "[5104053.907618627, 8480546.08208941, 11584283.838480633]\n",
      "66352700.79904215\n",
      "110247099.06716232\n",
      "150595689.90024823\n",
      "[7656080.86142794, 12720819.123134114, 17376425.757720947]\n",
      "99529051.19856323\n",
      "165370648.60074347\n",
      "225893534.8503723\n",
      "[16548859.553848084, 22909269.11541514, 26064638.63658142]\n",
      "215135174.20002508\n",
      "297820498.50039685\n",
      "338840302.2755585\n",
      "[34339068.413505465, 37519273.19428899, 39096957.95487213]\n",
      "446407889.3755711\n",
      "487750551.5257569\n",
      "508260453.4133377\n",
      "[51508602.6202582, 56278909.79143348, 71057081.59769426]\n",
      "669611834.0633565\n",
      "731625827.2886353\n",
      "923742060.7700254\n",
      "[96811382.90782335, 124950837.8035401, 160479378.60238722]\n",
      "1258547977.8017037\n",
      "1624360891.4460213\n",
      "2086231921.8310337\n",
      "[145217074.36173505, 207692493.2635051, 287932182.5646987]\n",
      "1887821966.7025557\n",
      "2700002412.4255667\n",
      "3743118373.3410826\n",
      "[217825611.54260257, 321671858.17435515, 361791702.8249519]\n",
      "2831732950.0538335\n",
      "4181734156.266617\n",
      "4703292136.724375\n",
      "[470704508.59625316, 482507787.2615327, 542687554.2374278]\n",
      "6119158611.751291\n",
      "6272601234.399925\n",
      "7054938205.086562\n",
      "[706056762.8943797, 783941447.8681942, 814031331.3561418]\n",
      "9178737917.626936\n",
      "10191238822.286524\n",
      "10582407307.629843\n",
      "[1059085144.3415697, 1175912171.8022914, 1582927837.4803624]\n",
      "13768106876.440405\n",
      "15286858233.429787\n",
      "20578061887.244713\n",
      "[2112470409.6511474, 2170883923.381508, 2962347842.121689]\n",
      "27462115325.464916\n",
      "28221491003.959602\n",
      "38510521947.581955\n",
      "[4018583046.947263, 4047789803.812443, 4443521763.182533]\n",
      "52241579610.314415\n",
      "52621267449.56176\n",
      "57765782921.37293\n",
      "[6452813286.656164, 6071684705.718664, 8674574168.24743]\n",
      "83886572726.53014\n",
      "112769464187.2166\n",
      "[9679219929.984245, 9107527058.577995, 14016507014.10796]\n",
      "125829859089.79518\n",
      "182214591183.40347\n",
      "[18856116979.100082, 18570270543.396957, 21024760521.16194]\n",
      "245129520728.30106\n",
      "273321886775.10526\n",
      "[28284175468.650124, 37569310740.3486, 48081691000.92957]\n",
      "367694281092.4516\n",
      "488401039624.5318\n",
      "625061983012.0845\n",
      "[42426263202.97519, 56353966110.5229, 80394811610.98769]\n",
      "551541421638.6775\n",
      "732601559436.7977\n",
      "1045132550942.8398\n",
      "[77567097712.0105, 108571794666.24915, 148769200471.74298]\n",
      "1008372270256.1365\n",
      "1411433330661.239\n",
      "1933999606132.6587\n",
      "[147355343522.2544, 201641240855.37897, 221739943758.1259]\n",
      "1915619465789.3071\n",
      "2621336131119.927\n",
      "2882619268855.636\n",
      "[221033015283.3816, 322560564185.81537, 331902987162.4445]\n",
      "2873429198683.9604\n",
      "4193287334415.5996\n",
      "4314738833111.779\n",
      "[442419494804.1353, 493183269255.3522, 497854480743.66675]\n",
      "5751453432453.759\n",
      "6411382500319.578\n",
      "6472108249667.668\n",
      "[714393016657.4198, 744446115371.3428, 963320257029.2532]\n",
      "9287109216546.457\n",
      "9677799499827.455\n",
      "12523163341380.291\n"
     ]
    }
   ],
   "source": [
    "D = 1\n",
    "while ctr < epochs:\n",
    "    for i in range(N):\n",
    "        jrand = int(random.random()*D) #+1\n",
    "        for j in range(D):\n",
    "            # Reproduksi\n",
    "            a = random.random()\n",
    "            # Cek crossover\n",
    "            if (a <= CR or j == jrand):\n",
    "                # Mutasi\n",
    "                # mengambil vektor basis secara acak\n",
    "                xr = induk[random.randint(0, (N-1))]\n",
    "                anak = xr + F * induk[i]\n",
    "            else:\n",
    "                anak = induk[i]\n",
    "        # Elitism\n",
    "        if (hitungFitness(anak) > hitungFitness(induk[i])):\n",
    "            induk[i] = anak\n",
    "    print(induk)\n",
    "\n",
    "    for i in range(N):\n",
    "        if (hitungFitness(induk[i]) > MaxFitness[ctr]):\n",
    "            MaxFitness[ctr] = hitungFitness(induk[i])\n",
    "            print(MaxFitness[ctr])\n",
    "\n",
    "    ctr += 1"
   ]
  },
  {
   "cell_type": "markdown",
   "metadata": {},
   "source": [
    "## Output"
   ]
  },
  {
   "cell_type": "code",
   "execution_count": 126,
   "metadata": {},
   "outputs": [
    {
     "name": "stdout",
     "output_type": "stream",
     "text": [
      "range(0, 50)\n"
     ]
    },
    {
     "data": {
      "text/plain": [
       "<matplotlib.legend.Legend at 0x1f5b9e4b6d0>"
      ]
     },
     "execution_count": 126,
     "metadata": {},
     "output_type": "execute_result"
    },
    {
     "data": {
      "image/png": "[encoded data removed]",
      "text/plain": [
       "<Figure size 432x288 with 1 Axes>"
      ]
     },
     "metadata": {
      "needs_background": "light"
     },
     "output_type": "display_data"
    }
   ],
   "source": [
    "x = range(epochs)\n",
    "print (x)\n",
    "plt.plot(x, MaxFitness, label='Max')\n",
    "plt.legend() #plt.legend(true)"
   ]
  },
  {
   "cell_type": "markdown",
   "metadata": {},
   "source": [
    "## Alfendio Alif Faudisyah - 672019222 - FTI UKSW"
   ]
  }
 ],
 "metadata": {
  "interpreter": {
   "hash": "152498b2d9bce54ae2199541d4ae55884c181b709c893d336525a129838ee740"
  },
  "kernelspec": {
   "display_name": "Python 3.8.8 ('base')",
   "language": "python",
   "name": "python3"
  },
  "language_info": {
   "codemirror_mode": {
    "name": "ipython",
    "version": 3
   },
   "file_extension": ".py",
   "mimetype": "text/x-python",
   "name": "python",
   "nbconvert_exporter": "python",
   "pygments_lexer": "ipython3",
   "version": "3.8.8"
  },
  "orig_nbformat": 4
 },
 "nbformat": 4,
 "nbformat_minor": 2
}
